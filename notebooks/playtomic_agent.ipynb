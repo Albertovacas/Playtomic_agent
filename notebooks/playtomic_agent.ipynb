{
 "cells": [
  {
   "cell_type": "code",
   "execution_count": 4,
   "id": "36cc2214",
   "metadata": {},
   "outputs": [],
   "source": [
    "import sys,os\n",
    "\n",
    "#import locale\n",
    "from datetime import datetime\n",
    "\n",
    "#locale.setlocale(locale.LC_TIME, 'es_ES.UTF-8')\n",
    "\n",
    "current_directory = os.getcwd()\n",
    "sys.path.insert(0,f'{current_directory}/../src/')\n",
    "sys.path.insert(0,f'{current_directory}/../chromedriver-mac-x64/chromedriver')\n",
    "\n",
    "from playtomic_tools import get_playtomic_schedule,add_playtomic_schedule\n",
    "\n",
    "from langchain_core.prompts import ChatPromptTemplate, MessagesPlaceholder\n",
    "from langchain_openai import ChatOpenAI\n",
    "from langchain_core.caches import BaseCache\n",
    "from langchain_core.callbacks import Callbacks\n",
    "from langchain.agents import create_tool_calling_agent\n",
    "from langchain.agents import AgentExecutor\n",
    "from langchain.memory import ConversationBufferMemory\n",
    "\n",
    "\n",
    "os.environ[\"OPENAI_API_KEY\"] = str(os.getenv(\"OPENAI_API_KEY\"))"
   ]
  },
  {
   "cell_type": "code",
   "execution_count": 14,
   "id": "5462b7cd",
   "metadata": {},
   "outputs": [],
   "source": [
    "openai_model = \"gpt-4o-mini\"\n",
    "# The extra thing\n",
    "ChatOpenAI.model_rebuild()\n",
    "\n",
    "# For normal accurate responses\n",
    "llm = ChatOpenAI(temperature=0.0, model=openai_model)"
   ]
  },
  {
   "cell_type": "code",
   "execution_count": null,
   "id": "fc0af42a",
   "metadata": {},
   "outputs": [],
   "source": [
    "tools = [get_playtomic_schedule]\n",
    "\n",
    "prompt = ChatPromptTemplate.from_messages([\n",
    "    (\"system\", \"you're a helpful assistant\"),\n",
    "    MessagesPlaceholder(variable_name=\"chat_history\"),\n",
    "    (\"human\", \"{input}\"),\n",
    "    (\"placeholder\", \"{agent_scratchpad}\"),\n",
    "])\n",
    "\n",
    "memory = ConversationBufferMemory(\n",
    "    memory_key=\"chat_history\",  # must align with MessagesPlaceholder variable_name\n",
    "    return_messages=True  # to return Message objects\n",
    ")\n",
    "\n",
    "agent = create_tool_calling_agent(\n",
    "    llm=llm, tools=tools, prompt=prompt\n",
    ")\n",
    "\n",
    "agent_executor = AgentExecutor(\n",
    "    agent=agent,\n",
    "    tools=tools,\n",
    "    memory=memory,\n",
    "    verbose=False\n",
    ")"
   ]
  },
  {
   "cell_type": "code",
   "execution_count": null,
   "id": "280d8207",
   "metadata": {},
   "outputs": [],
   "source": [
    "out = agent_executor.invoke({\n",
    "    \"input\": f\"\",\n",
    "    \"chat_history\": memory.chat_memory.messages,\n",
    "})"
   ]
  },
  {
   "cell_type": "code",
   "execution_count": null,
   "id": "f7eaa1af",
   "metadata": {},
   "outputs": [],
   "source": []
  }
 ],
 "metadata": {
  "kernelspec": {
   "display_name": ".venv",
   "language": "python",
   "name": "python3"
  },
  "language_info": {
   "codemirror_mode": {
    "name": "ipython",
    "version": 3
   },
   "file_extension": ".py",
   "mimetype": "text/x-python",
   "name": "python",
   "nbconvert_exporter": "python",
   "pygments_lexer": "ipython3",
   "version": "3.13.3"
  }
 },
 "nbformat": 4,
 "nbformat_minor": 5
}
