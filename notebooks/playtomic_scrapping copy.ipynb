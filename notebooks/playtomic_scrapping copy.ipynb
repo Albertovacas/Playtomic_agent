{
 "cells": [
  {
   "cell_type": "code",
   "execution_count": 1,
   "id": "36cc2214",
   "metadata": {},
   "outputs": [],
   "source": [
    "import sys,os\n",
    "import pandas as pd\n",
    "from decouple import Config, RepositoryEnv\n",
    "\n",
    "import locale\n",
    "from datetime import datetime\n",
    "\n",
    "\n",
    "locale.setlocale(locale.LC_TIME, 'es_ES.UTF-8')\n",
    "\n",
    "current_directory = os.getcwd()\n",
    "sys.path.insert(0,f'{current_directory}/src/')\n",
    "sys.path.insert(0,f'{current_directory}/../chromedriver-mac-x64/chromedriver')\n",
    "\n",
    "\n",
    "from playtomic_utils import drop_playtomic_schedule, add_playtomic_schedule, get_playtomic_schedule"
   ]
  },
  {
   "cell_type": "code",
   "execution_count": 2,
   "id": "89227720",
   "metadata": {},
   "outputs": [],
   "source": [
    "import selenium"
   ]
  },
  {
   "cell_type": "code",
   "execution_count": 3,
   "id": "3fff7ae7",
   "metadata": {},
   "outputs": [],
   "source": [
    "env_config = Config(RepositoryEnv('./.env'))\n",
    "email = env_config.get('EMAIL')\n",
    "password = env_config.get('PASSWORD')"
   ]
  },
  {
   "cell_type": "code",
   "execution_count": 4,
   "id": "0e5fdd58",
   "metadata": {},
   "outputs": [],
   "source": [
    "reservation_df = get_playtomic_schedule(email,password)"
   ]
  },
  {
   "cell_type": "code",
   "execution_count": 5,
   "id": "8b3f6da1",
   "metadata": {},
   "outputs": [
    {
     "data": {
      "text/plain": [
       "'           start_dt              end_dt\\n2025-07-15 09:30:00 2025-07-15 11:00:00\\n2025-07-15 17:30:00 2025-07-15 19:00:00\\n2025-07-15 19:00:00 2025-07-15 20:30:00\\n2025-07-15 20:30:00 2025-07-15 22:00:00\\n2025-07-16 15:30:00 2025-07-16 17:30:00\\n2025-07-16 17:30:00 2025-07-16 18:30:00\\n2025-07-16 19:00:00 2025-07-16 20:30:00\\n2025-07-16 20:30:00 2025-07-16 22:00:00\\n2025-07-17 08:30:00 2025-07-17 09:00:00\\n2025-07-17 09:00:00 2025-07-17 10:30:00\\n2025-07-17 14:00:00 2025-07-17 15:30:00\\n2025-07-17 16:00:00 2025-07-17 18:00:00\\n2025-07-17 19:00:00 2025-07-17 20:30:00\\n2025-07-17 20:30:00 2025-07-17 22:00:00\\n2025-07-18 08:30:00 2025-07-18 09:00:00\\n2025-07-18 19:00:00 2025-07-18 20:30:00\\n2025-07-18 20:30:00 2025-07-18 22:00:00\\n2025-07-19 18:00:00 2025-07-19 19:30:00\\n2025-07-19 19:30:00 2025-07-19 20:30:00\\n2025-07-19 20:30:00 2025-07-19 22:00:00\\n2025-07-20 10:00:00 2025-07-20 11:00:00'"
      ]
     },
     "execution_count": 5,
     "metadata": {},
     "output_type": "execute_result"
    }
   ],
   "source": [
    "reservation_df"
   ]
  },
  {
   "cell_type": "code",
   "execution_count": 5,
   "id": "b7fc5207",
   "metadata": {},
   "outputs": [],
   "source": [
    "day_reservation = datetime(2025, 7, 16)\n",
    "fecha_inicio = '08:30'\n",
    "match_duration = '60 min'\n",
    "court_price = 0\n",
    "court_name = 'Prueba'"
   ]
  },
  {
   "cell_type": "code",
   "execution_count": 6,
   "id": "b328968a",
   "metadata": {},
   "outputs": [
    {
     "name": "stdout",
     "output_type": "stream",
     "text": [
      "Se ha añadido la reserva al calendario\n"
     ]
    }
   ],
   "source": [
    "add_playtomic_schedule(email, password, day_reservation, fecha_inicio, match_duration, court_price, court_name)"
   ]
  },
  {
   "cell_type": "code",
   "execution_count": 4,
   "id": "ba29416e",
   "metadata": {},
   "outputs": [],
   "source": [
    "day_reservation = datetime(2025, 7, 16)\n",
    "fecha_inicio = '08:30'\n",
    "fecha_fin = '09:30'\n",
    "court_name = 'Prueba'"
   ]
  },
  {
   "cell_type": "code",
   "execution_count": 5,
   "id": "7734cee8",
   "metadata": {},
   "outputs": [
    {
     "name": "stdout",
     "output_type": "stream",
     "text": [
      "Se ha eliminado la reserva al calendario\n"
     ]
    }
   ],
   "source": [
    "drop_playtomic_schedule(email, password, day_reservation, fecha_inicio, fecha_fin, court_name)"
   ]
  },
  {
   "cell_type": "code",
   "execution_count": null,
   "id": "bf25c455",
   "metadata": {},
   "outputs": [],
   "source": []
  },
  {
   "cell_type": "code",
   "execution_count": null,
   "id": "c91a1691",
   "metadata": {},
   "outputs": [],
   "source": []
  }
 ],
 "metadata": {
  "kernelspec": {
   "display_name": ".venv",
   "language": "python",
   "name": "python3"
  },
  "language_info": {
   "codemirror_mode": {
    "name": "ipython",
    "version": 3
   },
   "file_extension": ".py",
   "mimetype": "text/x-python",
   "name": "python",
   "nbconvert_exporter": "python",
   "pygments_lexer": "ipython3",
   "version": "3.13.3"
  }
 },
 "nbformat": 4,
 "nbformat_minor": 5
}
